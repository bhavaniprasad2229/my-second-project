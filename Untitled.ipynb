{
 "cells": [
  {
   "cell_type": "code",
   "execution_count": 1,
   "id": "834c2a66",
   "metadata": {},
   "outputs": [
    {
     "name": "stdout",
     "output_type": "stream",
     "text": [
      "Enter the starting number: 5\n",
      "Enter the ending number: 7\n",
      "The sum of all even numbers between 5 and 7 is 6\n"
     ]
    }
   ],
   "source": [
    "def sum_of_even_numbers(start, end):\n",
    "   \n",
    "    if start > end:\n",
    "        start, end = end, start\n",
    "\n",
    "   \n",
    "    if start % 2 != 0:\n",
    "        start += 1\n",
    "\n",
    "    \n",
    "    total = sum(range(start, end + 1, 2))\n",
    "    return total\n",
    "\n",
    "\n",
    "start = int(input(\"Enter the starting number: \"))\n",
    "end = int(input(\"Enter the ending number: \"))\n",
    "\n",
    "\n",
    "print(f\"The sum of all even numbers between {start} and {end} is {sum_of_even_numbers(start, end)}\")\n"
   ]
  },
  {
   "cell_type": "code",
   "execution_count": null,
   "id": "44a66eb2",
   "metadata": {},
   "outputs": [],
   "source": []
  }
 ],
 "metadata": {
  "kernelspec": {
   "display_name": "Python 3 (ipykernel)",
   "language": "python",
   "name": "python3"
  },
  "language_info": {
   "codemirror_mode": {
    "name": "ipython",
    "version": 3
   },
   "file_extension": ".py",
   "mimetype": "text/x-python",
   "name": "python",
   "nbconvert_exporter": "python",
   "pygments_lexer": "ipython3",
   "version": "3.10.9"
  }
 },
 "nbformat": 4,
 "nbformat_minor": 5
}
